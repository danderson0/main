{
 "cells": [
  {
   "cell_type": "markdown",
   "metadata": {},
   "source": [
    "# Data Types\n",
    "The basic data types in python include types that contain numbers, *text*, **sequences**, and boolean. Many of these data types have *methods* associated with them. Methods are functions associated with certain classes, like data types. Date types often use methods with the syntax\n",
    "```python\n",
    "varname.method(<input arguments>)\n",
    "```\n",
    "where `method` returns an altered `varname`, but does not always edit the original `varname` directly\n",
    "## Numeric\n",
    "Python has three data types for numbers."
   ]
  },
  {
   "cell_type": "code",
   "execution_count": 1,
   "metadata": {},
   "outputs": [
    {
     "name": "stdout",
     "output_type": "stream",
     "text": [
      "<class 'int'>\n",
      "<class 'float'>\n",
      "<class 'complex'>\n"
     ]
    }
   ],
   "source": [
    "x = 137\n",
    "y = 1.618\n",
    "z = 3+5j\n",
    "print(type(x))\n",
    "print(type(y))\n",
    "print(type(z))"
   ]
  },
  {
   "cell_type": "markdown",
   "metadata": {},
   "source": [
    "Notice that Python automatically recognizes the data type for each type of number. There is no need to explicitly specify it."
   ]
  },
  {
   "cell_type": "markdown",
   "metadata": {},
   "source": [
    "### Arrays\n",
    "Arrays are a datatype found in `numpy`; therefore, you must always import `numpy` **before** using them. Arrays in Python are:\n",
    "1. fixed in size\n",
    "1. all elements must be of the same type\n",
    "1. multi-dimensional\n",
    "\n",
    "The *array* command is stored in the package _numpy_. Arrays can always be used in arithmetic operations, and they store data more efficiently than lists, so when storing lots of data, use arrays."
   ]
  },
  {
   "cell_type": "code",
   "execution_count": 3,
   "metadata": {},
   "outputs": [
    {
     "name": "stdout",
     "output_type": "stream",
     "text": [
      "[[11 12 13 14 15]\n",
      " [16 17 18 19 20]\n",
      " [21 22 23 24 25]\n",
      " [26 27 28 29 30]\n",
      " [31 32 33 34 35]]\n"
     ]
    }
   ],
   "source": [
    "from numpy import array\n",
    "a = array([[11,12,13,14,15],[16,17,18,19,20],[21,22,23,24,25],[26,27,28,29,30],[31,32,33,34,35]])\n",
    "print(a)"
   ]
  },
  {
   "cell_type": "markdown",
   "metadata": {},
   "source": [
    "![python indexing](figures/pythonarray.png)"
   ]
  },
  {
   "cell_type": "markdown",
   "metadata": {},
   "source": [
    "You can slice lists and arrays with a colon **:**\n",
    "\n",
    "- a[m:n] = subset of *a* starting at index *m* up to but not including *n*\n",
    "- a[m:n,p:q] = subset of a 2-D array *a* starting in row *m* and column *p* up to but not including row *n* and column *q* \n",
    "- a[m:n:step,p:q:step]  = subset of array *a* choosing an element at each step\n",
    "\n",
    "Omitting numbers before colon means start at the beginning and after the colon means go to end"
   ]
  },
  {
   "cell_type": "code",
   "execution_count": 4,
   "metadata": {},
   "outputs": [
    {
     "data": {
      "text/plain": [
       "array([[11, 12, 13, 14, 15],\n",
       "       [16, 17, 18, 19, 20],\n",
       "       [21, 22, 23, 24, 25],\n",
       "       [26, 27, 28, 29, 30],\n",
       "       [31, 32, 33, 34, 35]])"
      ]
     },
     "execution_count": 4,
     "metadata": {},
     "output_type": "execute_result"
    }
   ],
   "source": [
    "a"
   ]
  },
  {
   "cell_type": "code",
   "execution_count": 7,
   "metadata": {},
   "outputs": [
    {
     "data": {
      "text/plain": [
       "24"
      ]
     },
     "execution_count": 7,
     "metadata": {},
     "output_type": "execute_result"
    }
   ],
   "source": [
    "a[2,3]"
   ]
  },
  {
   "cell_type": "code",
   "execution_count": 9,
   "metadata": {},
   "outputs": [
    {
     "data": {
      "text/plain": [
       "array([[11, 13, 15],\n",
       "       [21, 23, 25],\n",
       "       [31, 33, 35]])"
      ]
     },
     "execution_count": 9,
     "metadata": {},
     "output_type": "execute_result"
    }
   ],
   "source": [
    "a[::2,::2]"
   ]
  },
  {
   "cell_type": "markdown",
   "metadata": {},
   "source": [
    "### Useful Functions\n",
    "Some functions in *numpy* help creating and importing arrays. You may also turn lists into arrays."
   ]
  },
  {
   "cell_type": "code",
   "execution_count": 10,
   "metadata": {},
   "outputs": [
    {
     "name": "stdout",
     "output_type": "stream",
     "text": [
      "[[0 0 0]\n",
      " [0 0 0]\n",
      " [0 0 0]]\n",
      "[[1. 1. 1.]\n",
      " [1. 1. 1.]\n",
      " [1. 1. 1.]]\n"
     ]
    }
   ],
   "source": [
    "import numpy as np\n",
    "A=np.zeros([3,3],int)\n",
    "B=np.ones([3,3],float)\n",
    "print(A)\n",
    "print(B)"
   ]
  },
  {
   "cell_type": "code",
   "execution_count": 11,
   "metadata": {},
   "outputs": [
    {
     "name": "stdout",
     "output_type": "stream",
     "text": [
      "[3, 5, 1, 3, 5, 6]\n"
     ]
    }
   ],
   "source": [
    "list1 = [3,5,1,3,5,6]\n",
    "print(list1)"
   ]
  },
  {
   "cell_type": "code",
   "execution_count": 12,
   "metadata": {},
   "outputs": [
    {
     "data": {
      "text/plain": [
       "array([3., 5., 1., 3., 5., 6.])"
      ]
     },
     "execution_count": 12,
     "metadata": {},
     "output_type": "execute_result"
    }
   ],
   "source": [
    "np.array(list1,float)"
   ]
  },
  {
   "cell_type": "markdown",
   "metadata": {},
   "source": [
    "Wait a minute! Are you saying I can only get 1D arrays from lists? Well, no. Let's use **lists of lists**"
   ]
  },
  {
   "cell_type": "code",
   "execution_count": 18,
   "metadata": {},
   "outputs": [
    {
     "data": {
      "text/plain": [
       "9"
      ]
     },
     "execution_count": 18,
     "metadata": {},
     "output_type": "execute_result"
    }
   ],
   "source": [
    "list2 = [[1,4,\"crap\"],[3,4,9],[-1,4,2]]\n",
    "list2[1][2]"
   ]
  },
  {
   "cell_type": "code",
   "execution_count": 20,
   "metadata": {},
   "outputs": [
    {
     "name": "stdout",
     "output_type": "stream",
     "text": [
      "[['1' '4' 'crap']\n",
      " ['3' '4' '9']\n",
      " ['-1' '4' '2']]\n"
     ]
    }
   ],
   "source": [
    "newarray = np.array(list2,str)\n",
    "print(newarray)"
   ]
  },
  {
   "cell_type": "markdown",
   "metadata": {},
   "source": [
    "You can load data from files **fairly** easily with *loadtxt*. Documentation on *dtype* and the notation used below is available at https://docs.scipy.org/doc/numpy-1.15.0/reference/generated/numpy.dtype.html"
   ]
  },
  {
   "cell_type": "code",
   "execution_count": 22,
   "metadata": {},
   "outputs": [
    {
     "data": {
      "text/plain": [
       "numpy.ndarray"
      ]
     },
     "execution_count": 22,
     "metadata": {},
     "output_type": "execute_result"
    }
   ],
   "source": [
    "test=np.loadtxt(\"data/globaltemps.txt\", dtype={'names': ('year','temp'),\n",
    "...                      'formats': ('i4', 'f4')})\n",
    "type(test)"
   ]
  },
  {
   "cell_type": "code",
   "execution_count": 23,
   "metadata": {},
   "outputs": [
    {
     "name": "stdout",
     "output_type": "stream",
     "text": [
      "[1998 2001 2002 2003 2004 2005 2006 2007 2008 2009 2010 2011 2012 2013\n",
      " 2014 2015 2016 2017 2018 2019 2020]\n"
     ]
    }
   ],
   "source": [
    "id = test['temp']>0.5\n",
    "tp=test['year'][id]\n",
    "print(tp)"
   ]
  },
  {
   "cell_type": "code",
   "execution_count": 24,
   "metadata": {},
   "outputs": [
    {
     "data": {
      "text/plain": [
       "array([-0.15, -0.07, -0.1 , -0.16, -0.27, -0.32, -0.3 , -0.35, -0.16,\n",
       "       -0.1 , -0.34, -0.22, -0.27, -0.31, -0.3 , -0.22, -0.1 , -0.1 ,\n",
       "       -0.26, -0.17, -0.07, -0.15, -0.27, -0.36, -0.46, -0.25, -0.21,\n",
       "       -0.37, -0.42, -0.47, -0.43, -0.43, -0.35, -0.33, -0.14, -0.13,\n",
       "       -0.35, -0.45, -0.28, -0.27, -0.26, -0.18, -0.28, -0.26, -0.26,\n",
       "       -0.21, -0.1 , -0.21, -0.19, -0.35, -0.15, -0.09, -0.16, -0.28,\n",
       "       -0.12, -0.2 , -0.15, -0.03,  0.  , -0.02,  0.13,  0.19,  0.07,\n",
       "        0.09,  0.2 ,  0.09, -0.07, -0.03, -0.11, -0.11, -0.17, -0.07,\n",
       "        0.01,  0.08, -0.13, -0.14, -0.19,  0.05,  0.06,  0.03, -0.02,\n",
       "        0.06,  0.03,  0.05, -0.2 , -0.11, -0.06, -0.02, -0.08,  0.05,\n",
       "        0.03, -0.08,  0.01,  0.16, -0.07, -0.01, -0.1 ,  0.18,  0.07,\n",
       "        0.16,  0.26,  0.32,  0.14,  0.31,  0.16,  0.12,  0.18,  0.32,\n",
       "        0.39,  0.27,  0.45,  0.4 ,  0.22,  0.23,  0.31,  0.44,  0.33,\n",
       "        0.46,  0.61,  0.38,  0.39,  0.54,  0.63,  0.62,  0.54,  0.68,\n",
       "        0.64,  0.67,  0.54,  0.66,  0.72,  0.61,  0.64,  0.68,  0.75,\n",
       "        0.9 ,  1.02,  0.92,  0.85,  0.98,  1.02], dtype=float32)"
      ]
     },
     "execution_count": 24,
     "metadata": {},
     "output_type": "execute_result"
    }
   ],
   "source": [
    "test['temp']"
   ]
  },
  {
   "cell_type": "code",
   "execution_count": 25,
   "metadata": {},
   "outputs": [
    {
     "name": "stdout",
     "output_type": "stream",
     "text": [
      "[(1880, -0.15000000596046448), (1881, -0.07000000029802322), (1882, -0.10000000149011612), (1883, -0.1599999964237213), (1884, -0.27000001072883606), (1885, -0.3199999928474426), (1886, -0.30000001192092896), (1887, -0.3499999940395355), (1888, -0.1599999964237213), (1889, -0.10000000149011612), (1890, -0.3400000035762787), (1891, -0.2199999988079071), (1892, -0.27000001072883606), (1893, -0.3100000023841858), (1894, -0.30000001192092896), (1895, -0.2199999988079071), (1896, -0.10000000149011612), (1897, -0.10000000149011612), (1898, -0.25999999046325684), (1899, -0.17000000178813934), (1900, -0.07000000029802322), (1901, -0.15000000596046448), (1902, -0.27000001072883606), (1903, -0.36000001430511475), (1904, -0.46000000834465027), (1905, -0.25), (1906, -0.20999999344348907), (1907, -0.3700000047683716), (1908, -0.41999998688697815), (1909, -0.4699999988079071), (1910, -0.4300000071525574), (1911, -0.4300000071525574), (1912, -0.3499999940395355), (1913, -0.33000001311302185), (1914, -0.14000000059604645), (1915, -0.12999999523162842), (1916, -0.3499999940395355), (1917, -0.44999998807907104), (1918, -0.2800000011920929), (1919, -0.27000001072883606), (1920, -0.25999999046325684), (1921, -0.18000000715255737), (1922, -0.2800000011920929), (1923, -0.25999999046325684), (1924, -0.25999999046325684), (1925, -0.20999999344348907), (1926, -0.10000000149011612), (1927, -0.20999999344348907), (1928, -0.1899999976158142), (1929, -0.3499999940395355), (1930, -0.15000000596046448), (1931, -0.09000000357627869), (1932, -0.1599999964237213), (1933, -0.2800000011920929), (1934, -0.11999999731779099), (1935, -0.20000000298023224), (1936, -0.15000000596046448), (1937, -0.029999999329447746), (1938, 0.0), (1939, -0.019999999552965164), (1940, 0.12999999523162842), (1941, 0.1899999976158142), (1942, 0.07000000029802322), (1943, 0.09000000357627869), (1944, 0.20000000298023224), (1945, 0.09000000357627869), (1946, -0.07000000029802322), (1947, -0.029999999329447746), (1948, -0.10999999940395355), (1949, -0.10999999940395355), (1950, -0.17000000178813934), (1951, -0.07000000029802322), (1952, 0.009999999776482582), (1953, 0.07999999821186066), (1954, -0.12999999523162842), (1955, -0.14000000059604645), (1956, -0.1899999976158142), (1957, 0.05000000074505806), (1958, 0.05999999865889549), (1959, 0.029999999329447746), (1960, -0.019999999552965164), (1961, 0.05999999865889549), (1962, 0.029999999329447746), (1963, 0.05000000074505806), (1964, -0.20000000298023224), (1965, -0.10999999940395355), (1966, -0.05999999865889549), (1967, -0.019999999552965164), (1968, -0.07999999821186066), (1969, 0.05000000074505806), (1970, 0.029999999329447746), (1971, -0.07999999821186066), (1972, 0.009999999776482582), (1973, 0.1599999964237213), (1974, -0.07000000029802322), (1975, -0.009999999776482582), (1976, -0.10000000149011612), (1977, 0.18000000715255737), (1978, 0.07000000029802322), (1979, 0.1599999964237213), (1980, 0.25999999046325684), (1981, 0.3199999928474426), (1982, 0.14000000059604645), (1983, 0.3100000023841858), (1984, 0.1599999964237213), (1985, 0.11999999731779099), (1986, 0.18000000715255737), (1987, 0.3199999928474426), (1988, 0.38999998569488525), (1989, 0.27000001072883606), (1990, 0.44999998807907104), (1991, 0.4000000059604645), (1992, 0.2199999988079071), (1993, 0.23000000417232513), (1994, 0.3100000023841858), (1995, 0.4399999976158142), (1996, 0.33000001311302185), (1997, 0.46000000834465027), (1998, 0.6100000143051147), (1999, 0.3799999952316284), (2000, 0.38999998569488525), (2001, 0.5400000214576721), (2002, 0.6299999952316284), (2003, 0.6200000047683716), (2004, 0.5400000214576721), (2005, 0.6800000071525574), (2006, 0.6399999856948853), (2007, 0.6700000166893005), (2008, 0.5400000214576721), (2009, 0.6600000262260437), (2010, 0.7200000286102295), (2011, 0.6100000143051147), (2012, 0.6399999856948853), (2013, 0.6800000071525574), (2014, 0.75), (2015, 0.8999999761581421), (2016, 1.0199999809265137), (2017, 0.9200000166893005), (2018, 0.8500000238418579), (2019, 0.9800000190734863), (2020, 1.0199999809265137)]\n",
      "[(1880, -0.15) (1881, -0.07) (1882, -0.1 ) (1883, -0.16) (1884, -0.27)\n",
      " (1885, -0.32) (1886, -0.3 ) (1887, -0.35) (1888, -0.16) (1889, -0.1 )\n",
      " (1890, -0.34) (1891, -0.22) (1892, -0.27) (1893, -0.31) (1894, -0.3 )\n",
      " (1895, -0.22) (1896, -0.1 ) (1897, -0.1 ) (1898, -0.26) (1899, -0.17)\n",
      " (1900, -0.07) (1901, -0.15) (1902, -0.27) (1903, -0.36) (1904, -0.46)\n",
      " (1905, -0.25) (1906, -0.21) (1907, -0.37) (1908, -0.42) (1909, -0.47)\n",
      " (1910, -0.43) (1911, -0.43) (1912, -0.35) (1913, -0.33) (1914, -0.14)\n",
      " (1915, -0.13) (1916, -0.35) (1917, -0.45) (1918, -0.28) (1919, -0.27)\n",
      " (1920, -0.26) (1921, -0.18) (1922, -0.28) (1923, -0.26) (1924, -0.26)\n",
      " (1925, -0.21) (1926, -0.1 ) (1927, -0.21) (1928, -0.19) (1929, -0.35)\n",
      " (1930, -0.15) (1931, -0.09) (1932, -0.16) (1933, -0.28) (1934, -0.12)\n",
      " (1935, -0.2 ) (1936, -0.15) (1937, -0.03) (1938,  0.  ) (1939, -0.02)\n",
      " (1940,  0.13) (1941,  0.19) (1942,  0.07) (1943,  0.09) (1944,  0.2 )\n",
      " (1945,  0.09) (1946, -0.07) (1947, -0.03) (1948, -0.11) (1949, -0.11)\n",
      " (1950, -0.17) (1951, -0.07) (1952,  0.01) (1953,  0.08) (1954, -0.13)\n",
      " (1955, -0.14) (1956, -0.19) (1957,  0.05) (1958,  0.06) (1959,  0.03)\n",
      " (1960, -0.02) (1961,  0.06) (1962,  0.03) (1963,  0.05) (1964, -0.2 )\n",
      " (1965, -0.11) (1966, -0.06) (1967, -0.02) (1968, -0.08) (1969,  0.05)\n",
      " (1970,  0.03) (1971, -0.08) (1972,  0.01) (1973,  0.16) (1974, -0.07)\n",
      " (1975, -0.01) (1976, -0.1 ) (1977,  0.18) (1978,  0.07) (1979,  0.16)\n",
      " (1980,  0.26) (1981,  0.32) (1982,  0.14) (1983,  0.31) (1984,  0.16)\n",
      " (1985,  0.12) (1986,  0.18) (1987,  0.32) (1988,  0.39) (1989,  0.27)\n",
      " (1990,  0.45) (1991,  0.4 ) (1992,  0.22) (1993,  0.23) (1994,  0.31)\n",
      " (1995,  0.44) (1996,  0.33) (1997,  0.46) (1998,  0.61) (1999,  0.38)\n",
      " (2000,  0.39) (2001,  0.54) (2002,  0.63) (2003,  0.62) (2004,  0.54)\n",
      " (2005,  0.68) (2006,  0.64) (2007,  0.67) (2008,  0.54) (2009,  0.66)\n",
      " (2010,  0.72) (2011,  0.61) (2012,  0.64) (2013,  0.68) (2014,  0.75)\n",
      " (2015,  0.9 ) (2016,  1.02) (2017,  0.92) (2018,  0.85) (2019,  0.98)\n",
      " (2020,  1.02)]\n"
     ]
    }
   ],
   "source": [
    "print(test.tolist()) # convert array to list\n",
    "print(test)"
   ]
  },
  {
   "cell_type": "markdown",
   "metadata": {},
   "source": [
    "## Sequences\n",
    "Sequences in Python include `lists`, `tuples` (`ranges`), and `strings`. Lists are a simple way of storing related data, much like arrays or tables in MATLAB. Tuples act much like lists, but are immutable, meaning once created they *cannot* be modified. Ranges refer to the built-in function `range` (and its many similar cousins: `arange`, `xrange`, etc). `range` is used to create a range of values. `strings` allow for text to be stored and manipulated.\n",
    "### Lists"
   ]
  },
  {
   "cell_type": "code",
   "execution_count": 32,
   "metadata": {},
   "outputs": [],
   "source": [
    "list1=['photon', 'W+ boson', 'W- boson', 'Z boson', 'gluon', 'graviton'];"
   ]
  },
  {
   "cell_type": "code",
   "execution_count": 33,
   "metadata": {},
   "outputs": [
    {
     "data": {
      "text/plain": [
       "'gluon'"
      ]
     },
     "execution_count": 33,
     "metadata": {},
     "output_type": "execute_result"
    }
   ],
   "source": [
    "list1[4]"
   ]
  },
  {
   "cell_type": "code",
   "execution_count": 34,
   "metadata": {},
   "outputs": [
    {
     "name": "stdout",
     "output_type": "stream",
     "text": [
      "graviton\n"
     ]
    }
   ],
   "source": [
    "notreal = list1.pop()\n",
    "print(notreal)"
   ]
  },
  {
   "cell_type": "code",
   "execution_count": 35,
   "metadata": {},
   "outputs": [
    {
     "data": {
      "text/plain": [
       "['photon', 'W+ boson', 'W- boson', 'Z boson', 'gluon']"
      ]
     },
     "execution_count": 35,
     "metadata": {},
     "output_type": "execute_result"
    }
   ],
   "source": [
    "list1"
   ]
  },
  {
   "cell_type": "code",
   "execution_count": 36,
   "metadata": {},
   "outputs": [
    {
     "name": "stdout",
     "output_type": "stream",
     "text": [
      "None\n"
     ]
    }
   ],
   "source": [
    "x = list1.append(notreal)\n",
    "print(x)"
   ]
  },
  {
   "cell_type": "code",
   "execution_count": 76,
   "metadata": {},
   "outputs": [
    {
     "data": {
      "text/plain": [
       "True"
      ]
     },
     "execution_count": 76,
     "metadata": {},
     "output_type": "execute_result"
    }
   ],
   "source": [
    "list1[0:4]\n",
    "'photon' in list1"
   ]
  },
  {
   "cell_type": "markdown",
   "metadata": {},
   "source": [
    "### Tuples"
   ]
  },
  {
   "cell_type": "code",
   "execution_count": 38,
   "metadata": {},
   "outputs": [],
   "source": [
    "tuple1 = ('photon', 'W+ boson', 'W- boson', 'Z boson', 'gluon', 'graviton')"
   ]
  },
  {
   "cell_type": "code",
   "execution_count": 39,
   "metadata": {},
   "outputs": [
    {
     "data": {
      "text/plain": [
       "('Z boson', 'gluon')"
      ]
     },
     "execution_count": 39,
     "metadata": {},
     "output_type": "execute_result"
    }
   ],
   "source": [
    "tuple1[3:5]"
   ]
  },
  {
   "cell_type": "code",
   "execution_count": 40,
   "metadata": {},
   "outputs": [
    {
     "ename": "TypeError",
     "evalue": "'tuple' object does not support item assignment",
     "output_type": "error",
     "traceback": [
      "\u001b[1;31m---------------------------------------------------------------------------\u001b[0m",
      "\u001b[1;31mTypeError\u001b[0m                                 Traceback (most recent call last)",
      "\u001b[1;32m<ipython-input-40-585444639a25>\u001b[0m in \u001b[0;36m<module>\u001b[1;34m\u001b[0m\n\u001b[1;32m----> 1\u001b[1;33m \u001b[0mtuple1\u001b[0m\u001b[1;33m[\u001b[0m\u001b[1;36m3\u001b[0m\u001b[1;33m]\u001b[0m\u001b[1;33m=\u001b[0m\u001b[1;34m'gamma'\u001b[0m\u001b[1;33m\u001b[0m\u001b[1;33m\u001b[0m\u001b[0m\n\u001b[0m",
      "\u001b[1;31mTypeError\u001b[0m: 'tuple' object does not support item assignment"
     ]
    }
   ],
   "source": [
    "tuple1[3]='gamma'"
   ]
  },
  {
   "cell_type": "code",
   "execution_count": 41,
   "metadata": {},
   "outputs": [
    {
     "name": "stdout",
     "output_type": "stream",
     "text": [
      "W- boson\n",
      "gluon\n"
     ]
    }
   ],
   "source": [
    "(em,weak1,weak2,weak3,strong,gravity)=tuple1\n",
    "print(weak2)\n",
    "print(strong)"
   ]
  },
  {
   "cell_type": "markdown",
   "metadata": {},
   "source": [
    "you often need to switch the values of two variables, tuples gives you an easy way:"
   ]
  },
  {
   "cell_type": "code",
   "execution_count": 42,
   "metadata": {},
   "outputs": [
    {
     "name": "stdout",
     "output_type": "stream",
     "text": [
      "3.1415\n",
      "switch\n"
     ]
    }
   ],
   "source": [
    "a='switch'\n",
    "b=3.1415\n",
    "(a,b)=(b,a)\n",
    "print(a)\n",
    "print(b)"
   ]
  },
  {
   "cell_type": "code",
   "execution_count": 44,
   "metadata": {},
   "outputs": [
    {
     "name": "stdout",
     "output_type": "stream",
     "text": [
      "range(0, 6)\n",
      "range(1, 19)\n",
      "range(1, 44, 4)\n",
      "<class 'range'>\n"
     ]
    }
   ],
   "source": [
    "r1=range(6)\n",
    "r2=range(1,19)\n",
    "r3=range(1,44,4)\n",
    "print(r1)\n",
    "print(r2)\n",
    "print(r3)\n",
    "print(type(r3))"
   ]
  },
  {
   "cell_type": "code",
   "execution_count": 49,
   "metadata": {},
   "outputs": [
    {
     "name": "stdout",
     "output_type": "stream",
     "text": [
      "photon\n",
      "W+ boson\n",
      "W- boson\n",
      "Z boson\n",
      "gluon\n",
      "graviton\n"
     ]
    }
   ],
   "source": [
    "for k in tuple1:\n",
    "    print(k)"
   ]
  },
  {
   "cell_type": "markdown",
   "metadata": {},
   "source": [
    "### Strings\n",
    "str is the only data type used to contain text in Python"
   ]
  },
  {
   "cell_type": "code",
   "execution_count": 46,
   "metadata": {},
   "outputs": [
    {
     "name": "stdout",
     "output_type": "stream",
     "text": [
      "<class 'str'>\n",
      "<class 'str'>\n",
      "n\n",
      "Single\n",
      "There is no difference between characters and strings. Single or double quotes give you the same thing\n"
     ]
    }
   ],
   "source": [
    "text1 = \"There is no difference between characters and strings. \"\n",
    "text2 = 'Single or double quotes give you the same thing'\n",
    "print(type(text1))\n",
    "print(type(text2))\n",
    "print(text1[9])\n",
    "print(text2[0:6])\n",
    "print(text1+text2)"
   ]
  },
  {
   "cell_type": "markdown",
   "metadata": {},
   "source": [
    "`str` is quite the flexible data type in Python. Below are some examples of ways to use strings. Many more methods can be found at [string methods](https://www.programiz.com/python-programming/methods/string/join)"
   ]
  },
  {
   "cell_type": "code",
   "execution_count": 52,
   "metadata": {},
   "outputs": [
    {
     "name": "stdout",
     "output_type": "stream",
     "text": [
      "8\n",
      "10\n",
      "180\n",
      "we\n"
     ]
    },
    {
     "data": {
      "text/plain": [
       "'Four score and seven years ago our fathers brought forth on this continent, a new nation, conceived in Liberty, and dedicated to the proposition that all men are created equal. NowTHE FAMILyare engaged in a great civil war, testing whether that nation, or any nation so conceived and dedicated, can long endure. We are met on a great battle-field of that war. We have come to dedicate a portion of that field, as a final resting place for those who here gave their lives that that nation might live. It is altogether fitting and proper thatTHE FAMILyshould do this. But, in a larger sense,THE FAMILycan not dedicate --THE FAMILycan not consecrate --THE FAMILycan not hallow -- this ground. The brave men, living and dead, who struggled here, have consecrated it, far above our poor power to add or detract. The world will little note, nor long remember whatTHE FAMILysay here, but it can never forget what they did here. It is for us the living, rather, to be dedicated here to the unfinished work which they who fought here have thus far so nobly advanced. It is rather for us to be here dedicated to the great task remaining before us -- that from these honored deadTHE FAMILytake increased devotion to that cause for which they gave the last full measure of devotion -- thatTHE FAMILyhere highly resolve that these dead shall not have died in vain -- that this nation, under God, shall have a new birth of freedom -- and that government of the people, by the people, for the people, shall not perish from the earth.'"
      ]
     },
     "execution_count": 52,
     "metadata": {},
     "output_type": "execute_result"
    }
   ],
   "source": [
    "gettysburg = \"Four score and seven years ago our fathers brought forth on this continent, a new nation, conceived in Liberty, and dedicated to the proposition that all men are created equal. Now we are engaged in a great civil war, testing whether that nation, or any nation so conceived and dedicated, can long endure. We are met on a great battle-field of that war. We have come to dedicate a portion of that field, as a final resting place for those who here gave their lives that that nation might live. It is altogether fitting and proper that we should do this. But, in a larger sense, we can not dedicate -- we can not consecrate -- we can not hallow -- this ground. The brave men, living and dead, who struggled here, have consecrated it, far above our poor power to add or detract. The world will little note, nor long remember what we say here, but it can never forget what they did here. It is for us the living, rather, to be dedicated here to the unfinished work which they who fought here have thus far so nobly advanced. It is rather for us to be here dedicated to the great task remaining before us -- that from these honored dead we take increased devotion to that cause for which they gave the last full measure of devotion -- that we here highly resolve that these dead shall not have died in vain -- that this nation, under God, shall have a new birth of freedom -- and that government of the people, by the people, for the people, shall not perish from the earth.\"\n",
    "substr= \" we \"\n",
    "print(gettysburg.count(substr)) # count 'we's in the address\n",
    "print(gettysburg.casefold().count(substr)) # counts we's regardless of capitalization\n",
    "print(gettysburg.find(substr))\n",
    "print(gettysburg[181:183])\n",
    "gettysburg.replace(substr,\"THE FAMILy\")"
   ]
  },
  {
   "cell_type": "markdown",
   "metadata": {},
   "source": [
    "## Dictionaries\n",
    "The basic data container in Python is a list. A `list` can hold a variety of data types. Once a `list` exists, it can be appended, have elements deleted, and be transformed into `arrays` or `tuples`. Of course, there are more sophisicated ways of storing/accessing/processing data in Python. Let's look at two: `dictionaries` and `dataframes`. Content below is generously sampled from http://openbookproject.net/thinkcs/python/english3e/dictionaries.html.\n",
    "Dictionaries are lists of values that are indexed by `keys`. In other languages, these dictionaries are often referred to associative arrays because it is a way to associate `keys` with values. Examples of using dictionaries:\n",
    "* English to Spainish dictionary"
   ]
  },
  {
   "cell_type": "code",
   "execution_count": 56,
   "metadata": {},
   "outputs": [
    {
     "data": {
      "text/plain": [
       "'uno'"
      ]
     },
     "execution_count": 56,
     "metadata": {},
     "output_type": "execute_result"
    }
   ],
   "source": [
    "entosp = {\"one\":\"uno\",\"two\":\"dos\",\"three\":\"tres\"} # `key:value` elements\n",
    "entosp[\"one\"]"
   ]
  },
  {
   "cell_type": "markdown",
   "metadata": {},
   "source": [
    "* Inventory of supplies"
   ]
  },
  {
   "cell_type": "code",
   "execution_count": 57,
   "metadata": {},
   "outputs": [
    {
     "data": {
      "text/plain": [
       "500"
      ]
     },
     "execution_count": 57,
     "metadata": {},
     "output_type": "execute_result"
    }
   ],
   "source": [
    "office = {\"highlighters\":200,\"pencils\":300,\"pens\":500}\n",
    "office['pens']"
   ]
  },
  {
   "cell_type": "markdown",
   "metadata": {},
   "source": [
    "You could construct a dictionary for a encryption code:"
   ]
  },
  {
   "cell_type": "code",
   "execution_count": 59,
   "metadata": {},
   "outputs": [
    {
     "name": "stdout",
     "output_type": "stream",
     "text": [
      "{'a': 1, 'b': 2, 'c': 3, 'd': 4, 'e': 5, 'f': 6, 'g': 7, 'h': 8, 'i': 9, 'j': 10, 'k': 11, 'l': 12, 'm': 13, 'n': 14, 'o': 15, 'p': 16, 'q': 17, 'r': 18, 's': 19, 't': 20, 'u': 21, 'v': 22, 'w': 23, 'x': 24, 'y': 25}\n",
      "7\n"
     ]
    }
   ],
   "source": [
    "codex = { \"a\": 1, \"b\": 2, \"c\": 3, \"d\": 4, \"e\": 5, \"f\": 6, \"g\": 7, \"h\": 8, \"i\": 9, \"j\": 10,\"k\": 11,\"l\": 12,\"m\": 13,\"n\": 14,\n",
    "         \"o\": 15,\"p\": 16,\"q\": 17,\"r\": 18,\"s\": 19,\"t\": 20,\"u\": 21,\"v\": 22,\"w\": 23,\"x\": 24,\"y\": 25}\n",
    "print(codex)\n",
    "print(codex[\"g\"])"
   ]
  },
  {
   "cell_type": "markdown",
   "metadata": {},
   "source": [
    "You can add new keys after the initial definiton:"
   ]
  },
  {
   "cell_type": "code",
   "execution_count": 60,
   "metadata": {},
   "outputs": [
    {
     "name": "stdout",
     "output_type": "stream",
     "text": [
      "{'a': 1, 'b': 2, 'c': 3, 'd': 4, 'e': 5, 'f': 6, 'g': 7, 'h': 8, 'i': 9, 'j': 10, 'k': 11, 'l': 12, 'm': 13, 'n': 14, 'o': 15, 'p': 16, 'q': 17, 'r': 18, 's': 19, 't': 20, 'u': 21, 'v': 22, 'w': 23, 'x': 24, 'y': 25, 'z': 26}\n"
     ]
    }
   ],
   "source": [
    "codex[\"z\"]=26\n",
    "print(codex)"
   ]
  },
  {
   "cell_type": "markdown",
   "metadata": {},
   "source": [
    "You can update the values in the dictionary"
   ]
  },
  {
   "cell_type": "code",
   "execution_count": 61,
   "metadata": {},
   "outputs": [
    {
     "name": "stdout",
     "output_type": "stream",
     "text": [
      "{'highlighters': 200, 'pencils': 300, 'pens': 700}\n"
     ]
    }
   ],
   "source": [
    "office[\"pens\"]+=200\n",
    "print(office)"
   ]
  },
  {
   "cell_type": "markdown",
   "metadata": {},
   "source": [
    "You can find out how many `key:values` pairs a dictionary has"
   ]
  },
  {
   "cell_type": "code",
   "execution_count": 62,
   "metadata": {},
   "outputs": [
    {
     "data": {
      "text/plain": [
       "26"
      ]
     },
     "execution_count": 62,
     "metadata": {},
     "output_type": "execute_result"
    }
   ],
   "source": [
    "len(codex)"
   ]
  },
  {
   "cell_type": "markdown",
   "metadata": {},
   "source": [
    "### Dictionary Methods\n",
    "Dictionaries are a type of class in Python, and classes have functions associated with them called `methods`. Methods allow you to perform operations on and with the dictionary. \n",
    "You can always get the keys and the values from any dictionary, using the methods `keys` and `values`"
   ]
  },
  {
   "cell_type": "code",
   "execution_count": 63,
   "metadata": {},
   "outputs": [
    {
     "name": "stdout",
     "output_type": "stream",
     "text": [
      "dict_values([200, 300, 700])\n",
      "dict_keys(['highlighters', 'pencils', 'pens'])\n",
      "[200, 300, 700]\n"
     ]
    }
   ],
   "source": [
    "print(office.values())\n",
    "print(office.keys())\n",
    "print(list(office.values()))"
   ]
  },
  {
   "cell_type": "markdown",
   "metadata": {},
   "source": [
    "You can run over all the keys to process the values or run through the values explicitly."
   ]
  },
  {
   "cell_type": "code",
   "execution_count": 64,
   "metadata": {},
   "outputs": [
    {
     "name": "stdout",
     "output_type": "stream",
     "text": [
      "Let's count in Spanish\n",
      "uno\n",
      "dos\n",
      "tres\n"
     ]
    }
   ],
   "source": [
    "print(\"Let's count in Spanish\")\n",
    "for k in entosp.keys():   # The order of the k's is not defined\n",
    "   print(entosp[k])\n"
   ]
  },
  {
   "cell_type": "code",
   "execution_count": 65,
   "metadata": {},
   "outputs": [
    {
     "name": "stdout",
     "output_type": "stream",
     "text": [
      "Let's look at the code\n",
      "a oops\n",
      "b oops\n",
      "c oops\n",
      "d oops\n",
      "e oops\n",
      "f oops\n",
      "g oops\n",
      "h oops\n",
      "i oops\n",
      "j oops\n",
      "k oops\n",
      "l oops\n",
      "m oops\n",
      "n oops\n",
      "o oops\n",
      "p oops\n",
      "q oops\n",
      "r oops\n",
      "s oops\n",
      "t oops\n",
      "u oops\n",
      "v oops\n",
      "w oops\n",
      "x oops\n",
      "y oops\n",
      "z oops\n"
     ]
    }
   ],
   "source": [
    "print(\"Let's look at the code\")\n",
    "for k in codex:   # The order of the k's is defined\n",
    "   print(k,\"oops\") # "
   ]
  },
  {
   "cell_type": "markdown",
   "metadata": {},
   "source": [
    "The method `items` can be used to iterate over the keys and values or to grab both the keys and the values."
   ]
  },
  {
   "cell_type": "code",
   "execution_count": 66,
   "metadata": {},
   "outputs": [
    {
     "data": {
      "text/plain": [
       "[('highlighters', 200), ('pencils', 300), ('pens', 700)]"
      ]
     },
     "execution_count": 66,
     "metadata": {},
     "output_type": "execute_result"
    }
   ],
   "source": [
    "list(office.items())"
   ]
  },
  {
   "cell_type": "code",
   "execution_count": 67,
   "metadata": {},
   "outputs": [
    {
     "name": "stdout",
     "output_type": "stream",
     "text": [
      "a = 1\n",
      "b = 2\n",
      "c = 3\n",
      "d = 4\n",
      "e = 5\n",
      "f = 6\n",
      "g = 7\n",
      "h = 8\n",
      "i = 9\n",
      "j = 10\n",
      "k = 11\n",
      "l = 12\n",
      "m = 13\n",
      "n = 14\n",
      "o = 15\n",
      "p = 16\n",
      "q = 17\n",
      "r = 18\n",
      "s = 19\n",
      "t = 20\n",
      "u = 21\n",
      "v = 22\n",
      "w = 23\n",
      "x = 24\n",
      "y = 25\n",
      "z = 26\n"
     ]
    }
   ],
   "source": [
    "for (k,v) in codex.items():\n",
    "    print(k, \"=\", v)"
   ]
  },
  {
   "cell_type": "markdown",
   "metadata": {},
   "source": [
    "## Booleans\n",
    "Booleans are essential for `if`, `for`, and `while` loops. These variables take 1 of two values: True or False."
   ]
  },
  {
   "cell_type": "code",
   "execution_count": 69,
   "metadata": {},
   "outputs": [
    {
     "name": "stdout",
     "output_type": "stream",
     "text": [
      "2\n"
     ]
    },
    {
     "data": {
      "text/plain": [
       "0"
      ]
     },
     "execution_count": 69,
     "metadata": {},
     "output_type": "execute_result"
    }
   ],
   "source": [
    "print((5 == 3) + 2)   # Is five equal 5 to the result of 3 + 2?\n",
    "int(5 == 6)"
   ]
  },
  {
   "cell_type": "code",
   "execution_count": 70,
   "metadata": {},
   "outputs": [
    {
     "data": {
      "text/plain": [
       "True"
      ]
     },
     "execution_count": 70,
     "metadata": {},
     "output_type": "execute_result"
    }
   ],
   "source": [
    "j = \"hel\"\n",
    "j + \"lo\" == \"hello\""
   ]
  },
  {
   "cell_type": "code",
   "execution_count": 71,
   "metadata": {},
   "outputs": [
    {
     "data": {
      "text/plain": [
       "bool"
      ]
     },
     "execution_count": 71,
     "metadata": {},
     "output_type": "execute_result"
    }
   ],
   "source": [
    "type(5==4)"
   ]
  },
  {
   "cell_type": "markdown",
   "metadata": {},
   "source": [
    "## Sets\n",
    "Sets are much like `tuples`. A `set` is a collection which is unordered and unindexed. In Python, sets are written with curly brackets. Once sets are created, they may not be changed or accessed directly, but you may run through them in a `for` statement. A set is useful because Python has methods that allow you to perform set theory operations on this datatype."
   ]
  },
  {
   "cell_type": "code",
   "execution_count": 72,
   "metadata": {},
   "outputs": [
    {
     "name": "stdout",
     "output_type": "stream",
     "text": [
      "{'apple', 'banana', 'cherry'}\n"
     ]
    }
   ],
   "source": [
    "thisset = {\"apple\", \"banana\", \"cherry\"}\n",
    "print(thisset)"
   ]
  },
  {
   "cell_type": "code",
   "execution_count": 73,
   "metadata": {},
   "outputs": [
    {
     "name": "stdout",
     "output_type": "stream",
     "text": [
      "apple\n",
      "banana\n",
      "cherry\n"
     ]
    }
   ],
   "source": [
    "thisset = {\"apple\", \"banana\", \"cherry\"}\n",
    "for x in thisset:\n",
    "  print(x)"
   ]
  },
  {
   "cell_type": "code",
   "execution_count": 74,
   "metadata": {},
   "outputs": [
    {
     "name": "stdout",
     "output_type": "stream",
     "text": [
      "True\n"
     ]
    }
   ],
   "source": [
    "thisset = {\"apple\", \"banana\", \"cherry\"}\n",
    "print(\"banana\" in thisset)"
   ]
  },
  {
   "cell_type": "code",
   "execution_count": 77,
   "metadata": {},
   "outputs": [
    {
     "name": "stdout",
     "output_type": "stream",
     "text": [
      "{'orange', 'apple', 'banana', 'cherry'}\n"
     ]
    }
   ],
   "source": [
    "thisset = {\"apple\", \"banana\", \"cherry\"}\n",
    "thisset.add(\"orange\")\n",
    "#thisset.append(\"kiwi\")\n",
    "print(thisset)"
   ]
  },
  {
   "cell_type": "code",
   "execution_count": 81,
   "metadata": {},
   "outputs": [
    {
     "name": "stdout",
     "output_type": "stream",
     "text": [
      "{'orange', 'apple', 'banana', 'grapes', 'cherry', 'mango'}\n"
     ]
    }
   ],
   "source": [
    "thisset2 = {\"apple\", \"banana\", \"cherry\"}\n",
    "thisset2.update({\"orange\", \"mango\", \"grapes\"})\n",
    "print(thisset2)"
   ]
  },
  {
   "cell_type": "markdown",
   "metadata": {},
   "source": [
    "Let's try some of the set operations like intersection, difference, and union"
   ]
  },
  {
   "cell_type": "code",
   "execution_count": 82,
   "metadata": {},
   "outputs": [
    {
     "data": {
      "text/plain": [
       "{'apple', 'banana', 'cherry', 'orange'}"
      ]
     },
     "execution_count": 82,
     "metadata": {},
     "output_type": "execute_result"
    }
   ],
   "source": [
    "thisset.intersection(thisset2)"
   ]
  },
  {
   "cell_type": "code",
   "execution_count": 84,
   "metadata": {},
   "outputs": [
    {
     "data": {
      "text/plain": [
       "set()"
      ]
     },
     "execution_count": 84,
     "metadata": {},
     "output_type": "execute_result"
    }
   ],
   "source": [
    "thisset.difference(thisset2)"
   ]
  },
  {
   "cell_type": "code",
   "execution_count": 85,
   "metadata": {},
   "outputs": [
    {
     "data": {
      "text/plain": [
       "{'apple', 'banana', 'cherry', 'grapes', 'mango', 'orange'}"
      ]
     },
     "execution_count": 85,
     "metadata": {},
     "output_type": "execute_result"
    }
   ],
   "source": [
    "thisset.union(thisset2)"
   ]
  },
  {
   "cell_type": "code",
   "execution_count": null,
   "metadata": {},
   "outputs": [],
   "source": []
  }
 ],
 "metadata": {
  "kernelspec": {
   "display_name": "Python 3",
   "language": "python",
   "name": "python3"
  },
  "language_info": {
   "codemirror_mode": {
    "name": "ipython",
    "version": 3
   },
   "file_extension": ".py",
   "mimetype": "text/x-python",
   "name": "python",
   "nbconvert_exporter": "python",
   "pygments_lexer": "ipython3",
   "version": "3.8.5"
  }
 },
 "nbformat": 4,
 "nbformat_minor": 4
}
